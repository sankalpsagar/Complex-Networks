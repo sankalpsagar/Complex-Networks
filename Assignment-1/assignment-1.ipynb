{
 "cells": [
  {
   "cell_type": "code",
   "execution_count": 1,
   "id": "c61822f2",
   "metadata": {},
   "outputs": [
    {
     "name": "stdout",
     "output_type": "stream",
     "text": [
      "Requirement already satisfied: networkx in c:\\users\\san\\anaconda3\\lib\\site-packages (3.3)\n"
     ]
    },
    {
     "name": "stderr",
     "output_type": "stream",
     "text": [
      "\n",
      "[notice] A new release of pip is available: 25.1.1 -> 25.2\n",
      "[notice] To update, run: python.exe -m pip install --upgrade pip\n"
     ]
    }
   ],
   "source": [
    "!pip install networkx"
   ]
  },
  {
   "cell_type": "markdown",
   "id": "c11dca83",
   "metadata": {},
   "source": [
    "# Graph Construction"
   ]
  },
  {
   "cell_type": "code",
   "execution_count": 2,
   "id": "784b7f14",
   "metadata": {},
   "outputs": [],
   "source": [
    "import pandas as pd\n",
    "import networkx as nx\n",
    "import numpy as np"
   ]
  },
  {
   "cell_type": "code",
   "execution_count": 3,
   "id": "c97e9133",
   "metadata": {},
   "outputs": [],
   "source": [
    "df = pd.read_excel(\"SFHH1.xlsx\")"
   ]
  },
  {
   "cell_type": "code",
   "execution_count": 4,
   "id": "1f6f6c12",
   "metadata": {},
   "outputs": [],
   "source": [
    "G = nx.Graph()"
   ]
  },
  {
   "cell_type": "code",
   "execution_count": 5,
   "id": "64e70086",
   "metadata": {},
   "outputs": [],
   "source": [
    "edges = df[[\"node1\", \"node2\"]].drop_duplicates().values.tolist()"
   ]
  },
  {
   "cell_type": "code",
   "execution_count": 6,
   "id": "18474802",
   "metadata": {},
   "outputs": [],
   "source": [
    "G.add_edges_from(edges)"
   ]
  },
  {
   "cell_type": "markdown",
   "id": "e98252d5",
   "metadata": {},
   "source": [
    "## Question 1"
   ]
  },
  {
   "cell_type": "code",
   "execution_count": 7,
   "id": "c20eff74",
   "metadata": {},
   "outputs": [
    {
     "name": "stdout",
     "output_type": "stream",
     "text": [
      "Number of Nodes:  403\n"
     ]
    }
   ],
   "source": [
    "N = G.number_of_nodes() \n",
    "print(\"Number of Nodes: \", N)"
   ]
  },
  {
   "cell_type": "code",
   "execution_count": 8,
   "id": "1078fd64",
   "metadata": {},
   "outputs": [
    {
     "name": "stdout",
     "output_type": "stream",
     "text": [
      "Number of Edges:  9510\n"
     ]
    }
   ],
   "source": [
    "E = G.number_of_edges()\n",
    "print(\"Number of Edges: \", E)"
   ]
  },
  {
   "cell_type": "code",
   "execution_count": 9,
   "id": "17e6ae8c",
   "metadata": {},
   "outputs": [],
   "source": [
    "degrees = []\n",
    "for node, degree in G.degree():\n",
    "    degrees.append(degree)"
   ]
  },
  {
   "cell_type": "code",
   "execution_count": 10,
   "id": "bea96595",
   "metadata": {},
   "outputs": [
    {
     "name": "stdout",
     "output_type": "stream",
     "text": [
      "Average Degree:  47.2\n",
      "Standard Deviation of Degrees:  29.95\n"
     ]
    }
   ],
   "source": [
    "avg_degree = np.mean(degrees).round(2)\n",
    "std_degree = np.std(degrees).round(2)\n",
    "print(\"Average Degree: \", avg_degree)\n",
    "print(\"Standard Deviation of Degrees: \", std_degree)"
   ]
  },
  {
   "cell_type": "markdown",
   "id": "f16edac8",
   "metadata": {},
   "source": [
    "## Question 2"
   ]
  },
  {
   "cell_type": "code",
   "execution_count": 11,
   "id": "e0a26ed7",
   "metadata": {},
   "outputs": [],
   "source": [
    "import seaborn as sns\n",
    "import matplotlib.pyplot as plt"
   ]
  },
  {
   "cell_type": "code",
   "execution_count": 12,
   "id": "879bc372",
   "metadata": {},
   "outputs": [],
   "source": [
    "# sns.set_style(style = \"dark\")\n",
    "sns.set_style(\"dark\")\n",
    "sns.set_palette(\"bone\")"
   ]
  },
  {
   "cell_type": "code",
   "execution_count": 13,
   "id": "10ffad19",
   "metadata": {},
   "outputs": [
    {
     "data": {
      "text/plain": [
       "Text(0.5, 1.0, 'Degree Distribution')"
      ]
     },
     "execution_count": 13,
     "metadata": {},
     "output_type": "execute_result"
    },
    {
     "data": {
      "image/png": "[encoded data removed]",
      "text/plain": [
       "<Figure size 640x480 with 1 Axes>"
      ]
     },
     "metadata": {},
     "output_type": "display_data"
    }
   ],
   "source": [
    "d_viz = sns.histplot(degrees)\n",
    "d_viz.set_xlabel('Degree')\n",
    "d_viz.set_ylabel('Count')\n",
    "d_viz.set_title('Degree Distribution')"
   ]
  },
  {
   "cell_type": "markdown",
   "id": "ea9e4479",
   "metadata": {},
   "source": [
    "## Question 3"
   ]
  },
  {
   "cell_type": "code",
   "execution_count": 14,
   "id": "1a6797cc",
   "metadata": {},
   "outputs": [
    {
     "name": "stdout",
     "output_type": "stream",
     "text": [
      "Degree assortativity:  -0.08001195267658665\n"
     ]
    }
   ],
   "source": [
    "rho_D = nx.degree_assortativity_coefficient(G)\n",
    "print(\"Degree assortativity: \", rho_D)"
   ]
  },
  {
   "cell_type": "markdown",
   "id": "269555bf",
   "metadata": {},
   "source": [
    "## Question 4"
   ]
  },
  {
   "cell_type": "code",
   "execution_count": 15,
   "id": "fbd03bdd",
   "metadata": {},
   "outputs": [
    {
     "name": "stdout",
     "output_type": "stream",
     "text": [
      "Clustering coefficient:  0.27752342886036674\n"
     ]
    }
   ],
   "source": [
    "C = nx.average_clustering(G)\n",
    "print(\"Clustering coefficient: \", C)"
   ]
  },
  {
   "cell_type": "markdown",
   "id": "d4f8eb58",
   "metadata": {},
   "source": [
    "## Question 5"
   ]
  },
  {
   "cell_type": "code",
   "execution_count": 16,
   "id": "6e50bd25",
   "metadata": {},
   "outputs": [
    {
     "name": "stdout",
     "output_type": "stream",
     "text": [
      "Average Hopcount:  1.955211535375233\n",
      "Diameter of Graph:  4\n"
     ]
    }
   ],
   "source": [
    "Eh = nx.average_shortest_path_length(G)\n",
    "Hmax = nx.diameter(G)\n",
    "print(\"Average Hopcount: \", Eh)\n",
    "print(\"Diameter of Graph: \", Hmax)"
   ]
  },
  {
   "cell_type": "markdown",
   "id": "b873d821",
   "metadata": {},
   "source": [
    "## Question 6"
   ]
  },
  {
   "cell_type": "code",
   "execution_count": 39,
   "id": "1018c2bb",
   "metadata": {},
   "outputs": [],
   "source": [
    "# creating a random graph\n",
    "R = nx.gnm_random_graph(N, E)"
   ]
  },
  {
   "cell_type": "code",
   "execution_count": 41,
   "id": "0f215c5f",
   "metadata": {},
   "outputs": [
    {
     "name": "stdout",
     "output_type": "stream",
     "text": [
      "Random Graph Clustering: 0.11641847967354954\n",
      "Random Graph Average Hopcount: 1.8857202819648655\n"
     ]
    }
   ],
   "source": [
    "C_rand = nx.average_clustering(R)\n",
    "Eh_rand = nx.average_shortest_path_length(R)\n",
    "\n",
    "print(\"Random Graph Clustering:\", C_rand)\n",
    "print(\"Random Graph Average Hopcount:\", Eh_rand)"
   ]
  },
  {
   "cell_type": "markdown",
   "id": "38985508",
   "metadata": {},
   "source": [
    "Since C of our graph > random graph and path length is similar, we can conclude that the graph does follow small world property."
   ]
  },
  {
   "cell_type": "markdown",
   "id": "9ce9e110",
   "metadata": {},
   "source": [
    "## Question 7\n"
   ]
  },
  {
   "cell_type": "code",
   "execution_count": 38,
   "id": "51435a7f",
   "metadata": {},
   "outputs": [
    {
     "data": {
      "image/png": "[encoded data removed]",
      "text/plain": [
       "<Figure size 640x480 with 1 Axes>"
      ]
     },
     "metadata": {},
     "output_type": "display_data"
    }
   ],
   "source": [
    "link_weights = df.groupby(['node1', 'node2']).size().values\n",
    "\n",
    "# plt.figure(figsize=(10, 6))\n",
    "sns.histplot(link_weights, bins=20, stat='density')\n",
    "plt.xlabel('Link Weight')\n",
    "plt.ylabel('Probability Density')\n",
    "plt.title('Probability Density Function of Link Weights')\n",
    "plt.yscale('log') \n",
    "plt.show()"
   ]
  },
  {
   "cell_type": "code",
   "execution_count": null,
   "id": "9b0534e1",
   "metadata": {},
   "outputs": [],
   "source": []
  }
 ],
 "metadata": {
  "kernelspec": {
   "display_name": "base",
   "language": "python",
   "name": "python3"
  },
  "language_info": {
   "codemirror_mode": {
    "name": "ipython",
    "version": 3
   },
   "file_extension": ".py",
   "mimetype": "text/x-python",
   "name": "python",
   "nbconvert_exporter": "python",
   "pygments_lexer": "ipython3",
   "version": "3.12.7"
  }
 },
 "nbformat": 4,
 "nbformat_minor": 5
}
